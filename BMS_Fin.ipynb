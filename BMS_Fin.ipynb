{
  "nbformat": 4,
  "nbformat_minor": 0,
  "metadata": {
    "colab": {
      "provenance": []
    },
    "kernelspec": {
      "name": "python3",
      "display_name": "Python 3"
    },
    "language_info": {
      "name": "python"
    }
  },
  "cells": [
    {
      "cell_type": "code",
      "source": [
        "# Libraries\n",
        "import pandas as pd\n",
        "import matplotlib.pyplot as plt\n",
        "import numpy as np\n",
        "import seaborn as sns\n",
        "import statsmodels.api as sm\n",
        "from scipy import stats\n",
        "from scipy.stats import uniform, randint\n",
        "from sklearn.feature_selection import RFE, SelectFromModel, RFECV\n",
        "from sklearn.model_selection import train_test_split, GridSearchCV, RandomizedSearchCV, cross_val_predict, StratifiedKFold\n",
        "from sklearn.linear_model import LogisticRegression, Ridge, Lasso\n",
        "from sklearn.metrics import accuracy_score, jaccard_score, hamming_loss, mean_absolute_error, classification_report,  precision_score, recall_score, f1_score, confusion_matrix, roc_curve, auc\n",
        "from sklearn.tree import DecisionTreeClassifier\n",
        "from sklearn.dummy import DummyClassifier\n",
        "from sklearn.ensemble import RandomForestClassifier\n",
        "from sklearn.neighbors import KNeighborsClassifier\n",
        "from sklearn.ensemble import HistGradientBoostingClassifier\n",
        "from sklearn.preprocessing import LabelEncoder, MultiLabelBinarizer\n",
        "import xgboost as xgb\n",
        "import tensorflow as tf\n",
        "from tensorflow import keras\n",
        "import lightgbm as lgb\n",
        "from lightgbm import LGBMClassifier\n",
        "#! pip install catboost\n",
        "#!pip install h2o\n",
        "import h2o\n",
        "from h2o.estimators import H2ORandomForestEstimator, H2OXGBoostEstimator, H2OGradientBoostingEstimator\n",
        "from h2o.grid.grid_search import H2OGridSearch\n",
        "from catboost import CatBoostClassifier, Pool"
      ],
      "metadata": {
        "id": "9sm4O9up-oIw"
      },
      "execution_count": null,
      "outputs": []
    },
    {
      "cell_type": "code",
      "execution_count": null,
      "metadata": {
        "id": "StA-1HBBb1d7"
      },
      "outputs": [],
      "source": [
        "# Load the data from 'BMS_labels.xlsx' into labels_df\n",
        "labels_df = pd.read_excel('BMS_labels.xlsx')\n",
        "reduced_labels_df = labels_df.dropna(subset=['file name'])\n",
        "\n",
        "# Read in CSV\n",
        "csv_file_path = \"autoCalc_parameters_2023-8-30.csv\"\n",
        "\n",
        "autocalc_df = pd.read_csv(csv_file_path)\n",
        "\n",
        "# Drop empty rows\n",
        "autocalc_df = autocalc_df.dropna(how='all')\n",
        "\n",
        "# Extract the number between \"cut\" and \"DLC\" from the 'name' column in autoCalc_df\n",
        "autocalc_df['cut_number'] = autocalc_df['name'].str.extract(r'cut(\\d+)DLC')\n",
        "\n",
        "# Convert the 'cut_number' column to numeric (integer)\n",
        "autocalc_df['cut_number'] = pd.to_numeric(autocalc_df['cut_number'], errors='coerce')\n",
        "\n",
        "# Initialize lists to store values from labels_df\n",
        "direction_values = []\n",
        "start_frame_values = []\n",
        "end_frame_values = []\n",
        "bms_l_values = []\n",
        "bms_r_values = []\n",
        "\n",
        "# Convert the 'name' column in autoCalc_df to strings\n",
        "autocalc_df['name'] = autocalc_df['name'].astype(str)\n",
        "\n",
        "# Loop through rows in autoCalc_df\n",
        "for name in autocalc_df['name']:\n",
        "    # Find the matching 'file name' in reduced_labels_df\n",
        "    matching_row = reduced_labels_df[reduced_labels_df['file name'].apply(lambda x: name.startswith(x))]\n",
        "\n",
        "    # Check if a matching row was found\n",
        "    if not matching_row.empty:\n",
        "        # Append BMS-L and BMS-R values to lists\n",
        "        bms_l_values.append(matching_row['BMS-L'].values[-1])\n",
        "        bms_r_values.append(matching_row['BMS-R'].values[-1])\n",
        "    else:\n",
        "        # If no match was found, append NaN values or a default value\n",
        "        bms_l_values.append(None)  # You can replace None with a default value if needed\n",
        "        bms_r_values.append(None)  # You can replace None with a default value if needed\n",
        "\n",
        "# Add the BMS-L and BMS-R columns to autoCalc_df\n",
        "autocalc_df['BMS-L'] = bms_l_values\n",
        "autocalc_df['BMS-R'] = bms_r_values\n",
        "\n",
        "# Loop through rows in autoCalc_df\n",
        "for cut_number in autocalc_df['cut_number']:\n",
        "  # Skip rows with missing or 'nan' values in 'cut_number'\n",
        "  if pd.notna(cut_number):\n",
        "    # Find the matching row in labels_df based on 'cut_number'\n",
        "    matching_row = labels_df.loc[cut_number]\n",
        "\n",
        "    # Check if a matching row was found\n",
        "    if not matching_row.empty:\n",
        "        # Append values for \"direction,\" \"start frame,\" and \"end frame\" to lists\n",
        "        direction_values.append(matching_row['direction'])\n",
        "        start_frame_values.append(matching_row['start frame'])\n",
        "        end_frame_values.append(matching_row['end frame'])\n",
        "    else:\n",
        "        # If no match was found, append NaN values or default values\n",
        "        direction_values.append(None)  # You can replace None with a default value if needed\n",
        "        start_frame_values.append(None)  # You can replace None with a default value if needed\n",
        "        end_frame_values.append(None)  # You can replace None with a default value if needed\n",
        "\n",
        "  else:\n",
        "    # Handle missing or 'nan' values in 'cut_number' column\n",
        "    direction_values.append(None)\n",
        "    start_frame_values.append(None)\n",
        "    end_frame_values.append(None)\n",
        "\n",
        "# Add new columns to autoCalc_df with values from labels_df\n",
        "autocalc_df['direction'] = direction_values\n",
        "autocalc_df['start frame'] = start_frame_values\n",
        "autocalc_df['end frame'] = end_frame_values\n",
        "\n",
        "# Display the resulting merged dataframe\n",
        "#print(autocalc_df)"
      ]
    },
    {
      "cell_type": "code",
      "source": [
        "# Data cleaning\n",
        "\n",
        "# Calculate the percentage of missing values for each column\n",
        "missing_percentage_per_col = (autocalc_df.isna().sum() / len(autocalc_df)) * 100\n",
        "\n",
        "# Calculate the percentage of missing values for each row\n",
        "missing_percentage_per_row = (autocalc_df.isna().sum(axis=1) / len(autocalc_df.columns)) * 100\n",
        "\n",
        "autocalc_df_cleaned = autocalc_df.replace('', np.nan)\n",
        "\n",
        "# Calculate the percentage of missing values for each column\n",
        "clean_missing_percentage_per_col = (autocalc_df_cleaned.isna().sum() / len(autocalc_df_cleaned)) * 100\n",
        "\n",
        "# Calculate the percentage of missing values for each row\n",
        "clean_missing_percentage_per_row = (autocalc_df_cleaned.isna().sum(axis=1) / len(autocalc_df_cleaned.columns)) * 100\n",
        "\n",
        "#print(clean_missing_percentage_per_col)\n",
        "#print(clean_missing_percentage_per_row)\n",
        "\n",
        "#print(autocalc_df_cleaned.shape)"
      ],
      "metadata": {
        "id": "BViZVXiylXo1"
      },
      "execution_count": null,
      "outputs": []
    },
    {
      "cell_type": "code",
      "source": [
        "# alt outlier handler (replaces w nan)\n",
        "# Define a z-score threshold (e.g., ±3 standard deviations)\n",
        "z_score_threshold = 3\n",
        "\n",
        "# List of columns to process (exclude the first column if needed)\n",
        "columns_to_process = autocalc_df_cleaned.columns[1:-3]\n",
        "\n",
        "# Loop through each column and replace outliers with NaN using .loc\n",
        "for column_name in columns_to_process:\n",
        "    z_scores = stats.zscore(autocalc_df_cleaned[column_name])\n",
        "    outlier_mask = (z_scores < -z_score_threshold) | (z_scores > z_score_threshold)\n",
        "    autocalc_df_cleaned.loc[outlier_mask, column_name] = np.nan\n",
        "\n",
        "# Removes this column (column of single values)\n",
        "autocalc_df_cleaned = autocalc_df_cleaned.drop(columns=['distance_nose_tail_median'])\n",
        "\n",
        "print(autocalc_df_cleaned.shape)"
      ],
      "metadata": {
        "colab": {
          "base_uri": "https://localhost:8080/"
        },
        "id": "u-gi22EsU-3_",
        "outputId": "dfff19da-d778-48d8-f34e-08f4b0a30769"
      },
      "execution_count": null,
      "outputs": [
        {
          "output_type": "stream",
          "name": "stdout",
          "text": [
            "(180, 154)\n"
          ]
        }
      ]
    },
    {
      "cell_type": "code",
      "source": [
        "# Distribution of each variable\n",
        "def distribution(df):\n",
        "    # Extract all column names except the first one\n",
        "    columns_to_plot = df.columns[1:]  # Exclude the first column\n",
        "\n",
        "    # Define the number of rows and columns in the grid\n",
        "    num_rows = 40\n",
        "    num_cols = 5\n",
        "\n",
        "\n",
        "    # Calculate the figure size based on the number of rows and columns\n",
        "    fig_width = 15  # Adjust the width as needed\n",
        "    fig_height = 3 * num_rows  # Adjust the height as needed\n",
        "\n",
        "    # Create a plot with a 10x20 grid of subplots\n",
        "    fig, axes = plt.subplots(nrows=num_rows, ncols=num_cols, figsize=(fig_width, fig_height))\n",
        "\n",
        "    # Loop through the columns and create distribution plots\n",
        "    for i, column_name in enumerate(columns_to_plot):\n",
        "        row = i // num_cols\n",
        "        col = i % num_cols\n",
        "        ax = axes[row, col]\n",
        "\n",
        "        # Remove NA values from the column using dropna()\n",
        "        data = df[column_name].dropna()\n",
        "\n",
        "        # Create a histogram with a KDE plot\n",
        "        sns.histplot(data, ax=ax, kde=True, color='blue')  # You can adjust the color if needed\n",
        "\n",
        "        ax.set_title(f'Distribution of {column_name}')\n",
        "        ax.set_xlabel('')\n",
        "\n",
        "    # Remove any empty subplots\n",
        "    for i in range(len(columns_to_plot), num_rows * num_cols):\n",
        "        row = i // num_cols\n",
        "        col = i % num_cols\n",
        "        fig.delaxes(axes[row, col])\n",
        "\n",
        "    # Adjust layout\n",
        "    plt.tight_layout()\n",
        "    plt.show()\n",
        "\n",
        "#distribution(autocalc_df_cleaned)\n"
      ],
      "metadata": {
        "id": "pRCmiKVvV3Zn"
      },
      "execution_count": null,
      "outputs": []
    },
    {
      "cell_type": "code",
      "source": [
        "# Drop rows where either 'BMS-L' or 'BMS-R' is missing\n",
        "autocalc_df_cleaned = autocalc_df_cleaned.dropna(subset=['BMS-L', 'BMS-R'], how='any')\n",
        "\n",
        "# Reset the index if needed\n",
        "autocalc_df_cleaned.reset_index(drop=True, inplace=True)\n",
        "\n",
        "# Assuming you have multiple target columns in autocalc_df_cleaned\n",
        "target_columns = ['BMS-L', 'BMS-R']  # Replace with your actual target column names\n",
        "\n",
        "# Define the feature columns (X)\n",
        "X = autocalc_df_cleaned.drop(columns=['name'] + target_columns)\n",
        "\n",
        "# Perform one-hot encoding for 'direction'\n",
        "X = pd.get_dummies(X, columns=['direction'], drop_first=True)\n",
        "\n",
        "# Define the target columns (y)\n",
        "y = autocalc_df_cleaned[target_columns]"
      ],
      "metadata": {
        "id": "HjUZd3P9P_iV"
      },
      "execution_count": null,
      "outputs": []
    },
    {
      "cell_type": "code",
      "source": [
        "# Split the data into training and testing sets\n",
        "X_train, X_test, y_train, y_test = train_test_split(X, y, test_size=0.2, random_state=42)\n",
        "\n",
        "# Initialize a dummy classifier as a baseline model\n",
        "dummy_classifier_L = DummyClassifier(strategy='most_frequent')  # You can also try 'stratified' or 'uniform'\n",
        "\n",
        "# Fit the baseline model on the training data\n",
        "dummy_classifier_L.fit(X_train, y_train['BMS-L'])\n",
        "\n",
        "# Make predictions on the test data using the baseline model\n",
        "baseline_predictions_L = dummy_classifier_L.predict(X_test)\n",
        "\n",
        "# Calculate the baseline accuracy\n",
        "baseline_accuracy_L = accuracy_score(y_test['BMS-L'], baseline_predictions_L)\n",
        "print(f\"Baseline Accuracy: {baseline_accuracy_L}\")\n",
        "\n",
        "dummy_classifier_R = DummyClassifier(strategy='most_frequent')  # You can also try 'stratified' or 'uniform'\n",
        "\n",
        "# Fit the baseline model on the training data\n",
        "dummy_classifier_R.fit(X_train, y_train['BMS-R'])\n",
        "\n",
        "# Make predictions on the test data using the baseline model\n",
        "baseline_predictions_R = dummy_classifier_R.predict(X_test)\n",
        "\n",
        "# Calculate the baseline accuracy\n",
        "baseline_accuracy_R = accuracy_score(y_test['BMS-R'], baseline_predictions_R)\n",
        "print(f\"Baseline Accuracy: {baseline_accuracy_R}\")"
      ],
      "metadata": {
        "colab": {
          "base_uri": "https://localhost:8080/"
        },
        "id": "gPomjvXILd4U",
        "outputId": "7cfbc54a-2378-47d4-b3f7-ddd6a9a0c805"
      },
      "execution_count": null,
      "outputs": [
        {
          "output_type": "stream",
          "name": "stdout",
          "text": [
            "Baseline Accuracy: 0.19444444444444445\n",
            "Baseline Accuracy: 0.1111111111111111\n"
          ]
        }
      ]
    },
    {
      "cell_type": "code",
      "source": [
        "correlation_matrix = autocalc_df_cleaned.corr()\n",
        "\n",
        "threshold = 0.90  # Adjust this threshold as needed\n",
        "correlated_features = set()\n",
        "\n",
        "for i in range(len(correlation_matrix.columns)):\n",
        "    for j in range(i):\n",
        "        if abs(correlation_matrix.iloc[i, j]) > threshold:\n",
        "            colname_i = correlation_matrix.columns[i]\n",
        "            colname_j = correlation_matrix.columns[j]\n",
        "            correlated_features.add(colname_i)\n",
        "            correlated_features.add(colname_j)\n",
        "\n",
        "print(autocalc_df_cleaned.shape)\n",
        "autocalc_df_cleaned = autocalc_df_cleaned.drop(columns=correlated_features)\n",
        "print(autocalc_df_cleaned.shape)"
      ],
      "metadata": {
        "colab": {
          "base_uri": "https://localhost:8080/"
        },
        "id": "mlCLIqxlbSY2",
        "outputId": "e4b3cdcb-cca7-424f-a1de-d0e9c3e2f144"
      },
      "execution_count": null,
      "outputs": [
        {
          "output_type": "stream",
          "name": "stdout",
          "text": [
            "(180, 154)\n",
            "(180, 117)\n"
          ]
        },
        {
          "output_type": "stream",
          "name": "stderr",
          "text": [
            "<ipython-input-22-65442e53e40d>:1: FutureWarning: The default value of numeric_only in DataFrame.corr is deprecated. In a future version, it will default to False. Select only valid columns or specify the value of numeric_only to silence this warning.\n",
            "  correlation_matrix = autocalc_df_cleaned.corr()\n"
          ]
        }
      ]
    },
    {
      "cell_type": "code",
      "source": [
        "# Function to calculate and print metrics\n",
        "def calculate_metrics(y_true, y_pred):\n",
        "    precision = precision_score(y_true, y_pred, average='weighted')\n",
        "    recall = recall_score(y_true, y_pred, average='weighted')\n",
        "    f1 = f1_score(y_true, y_pred, average='weighted')\n",
        "    conf_matrix = confusion_matrix(y_true, y_pred)\n",
        "\n",
        "    print(f'Precision: {precision:.2f}')\n",
        "    print(f'Recall: {recall:.2f}')\n",
        "    print(f'F1 Score: {f1:.2f}')\n",
        "    print('Confusion Matrix:')\n",
        "    print(conf_matrix)\n",
        "\n",
        "# Function to plot ROC curve\n",
        "def plot_roc_curve(y_true, y_score):\n",
        "    fpr, tpr, thresholds = roc_curve(y_true, y_score, pos_label=1)\n",
        "    roc_auc = auc(fpr, tpr)\n",
        "\n",
        "    plt.figure()\n",
        "    plt.plot(fpr, tpr, color='darkorange', lw=2, label='ROC curve (area = %0.2f)' % roc_auc)\n",
        "    plt.plot([0, 1], [0, 1], color='navy', lw=2, linestyle='--')\n",
        "    plt.xlim([0.0, 1.0])\n",
        "    plt.ylim([0.0, 1.05])\n",
        "    plt.xlabel('False Positive Rate')\n",
        "    plt.ylabel('True Positive Rate')\n",
        "    plt.title('Receiver Operating Characteristic (ROC) Curve')\n",
        "    plt.legend(loc='lower right')\n",
        "    plt.show()\n"
      ],
      "metadata": {
        "id": "Cdi-reWMVbxP"
      },
      "execution_count": null,
      "outputs": []
    },
    {
      "cell_type": "code",
      "source": [
        "# Initialize H2O\n",
        "h2o.init()\n",
        "\n",
        "# Split the data into training and testing sets\n",
        "h2o_X_train, h2o_X_test, h2o_y_train, h2o_y_test = train_test_split(X, y, test_size=0.2, random_state=42)\n",
        "\n",
        "# Create a dictionary to store models and their respective predictions and reports\n",
        "models = {}\n",
        "\n",
        "# Loop over each target variable ('BMS-L' and 'BMS-R')\n",
        "for target_var in ['BMS-L', 'BMS-R']:\n",
        "    # Create a new H2OFrame with a single target column for the current target variable\n",
        "    train_data_h2o = h2o.H2OFrame(\n",
        "        h2o_X_train.assign(target_variable=h2o_y_train[target_var].tolist())\n",
        "    )\n",
        "\n",
        "    # Round the target variable to the nearest integer to make it categorical\n",
        "    train_data_h2o[target_var] = train_data_h2o[target_variable].round()\n",
        "\n",
        "    # Define the features by excluding the current target variable\n",
        "    features = [col for col in train_data_h2o.columns if col != target_var]\n",
        "\n",
        "    # Set the column names explicitly\n",
        "    train_data_h2o.set_names(features + [target_var])\n",
        "\n",
        "    # Train the Random Forest model for the current target variable\n",
        "    h2o_rf = H2ORandomForestEstimator()\n",
        "    h2o_rf.train(x=features, y=target_var, training_frame=train_data_h2o)\n",
        "\n",
        "    # Convert your test data to an H2O Frame\n",
        "    test_data_h2o = h2o.H2OFrame(h2o_X_test)\n",
        "\n",
        "    # Make predictions using the trained model\n",
        "    predictions = h2o_rf.predict(test_data_h2o)\n",
        "\n",
        "    # Round the predicted labels to the nearest integer\n",
        "    predicted_labels = predictions['predict'].round().as_data_frame()['predict'].tolist()\n",
        "\n",
        "    # Calculate evaluation metrics\n",
        "    actual_labels = h2o_y_test[target_var].round()\n",
        "\n",
        "    classification_rep = classification_report(actual_labels, predicted_labels)\n",
        "\n",
        "    print(f\"Classification Report for '{target_var}':\")\n",
        "    print(classification_rep)\n",
        "\n",
        "    # Store the model and its predictions/report in the dictionary\n",
        "    models[target_var] = {\n",
        "        'model': h2o_rf,\n",
        "        'predictions': predicted_labels,\n",
        "        'report': classification_rep\n",
        "    }\n",
        "\n"
      ],
      "metadata": {
        "id": "vWvp3k8JfjF2",
        "colab": {
          "base_uri": "https://localhost:8080/",
          "height": 1000
        },
        "outputId": "86e70a2e-fed0-4297-a1d9-95848e939272"
      },
      "execution_count": null,
      "outputs": [
        {
          "output_type": "stream",
          "name": "stdout",
          "text": [
            "Checking whether there is an H2O instance running at http://localhost:54321. connected.\n"
          ]
        },
        {
          "output_type": "display_data",
          "data": {
            "text/plain": [
              "--------------------------  -----------------------------------------------------------------------------------------\n",
              "H2O_cluster_uptime:         1 hour 3 mins\n",
              "H2O_cluster_timezone:       Etc/UTC\n",
              "H2O_data_parsing_timezone:  UTC\n",
              "H2O_cluster_version:        3.42.0.4\n",
              "H2O_cluster_version_age:    2 days\n",
              "H2O_cluster_name:           H2O_from_python_unknownUser_kius4f\n",
              "H2O_cluster_total_nodes:    1\n",
              "H2O_cluster_free_memory:    3.148 Gb\n",
              "H2O_cluster_total_cores:    2\n",
              "H2O_cluster_allowed_cores:  2\n",
              "H2O_cluster_status:         locked, healthy\n",
              "H2O_connection_url:         http://localhost:54321\n",
              "H2O_connection_proxy:       {\"http\": null, \"https\": null, \"colab_language_server\": \"/usr/colab/bin/language_service\"}\n",
              "H2O_internal_security:      False\n",
              "Python_version:             3.10.12 final\n",
              "--------------------------  -----------------------------------------------------------------------------------------"
            ],
            "text/html": [
              "\n",
              "<style>\n",
              "\n",
              "#h2o-table-16.h2o-container {\n",
              "  overflow-x: auto;\n",
              "}\n",
              "#h2o-table-16 .h2o-table {\n",
              "  /* width: 100%; */\n",
              "  margin-top: 1em;\n",
              "  margin-bottom: 1em;\n",
              "}\n",
              "#h2o-table-16 .h2o-table caption {\n",
              "  white-space: nowrap;\n",
              "  caption-side: top;\n",
              "  text-align: left;\n",
              "  /* margin-left: 1em; */\n",
              "  margin: 0;\n",
              "  font-size: larger;\n",
              "}\n",
              "#h2o-table-16 .h2o-table thead {\n",
              "  white-space: nowrap; \n",
              "  position: sticky;\n",
              "  top: 0;\n",
              "  box-shadow: 0 -1px inset;\n",
              "}\n",
              "#h2o-table-16 .h2o-table tbody {\n",
              "  overflow: auto;\n",
              "}\n",
              "#h2o-table-16 .h2o-table th,\n",
              "#h2o-table-16 .h2o-table td {\n",
              "  text-align: right;\n",
              "  /* border: 1px solid; */\n",
              "}\n",
              "#h2o-table-16 .h2o-table tr:nth-child(even) {\n",
              "  /* background: #F5F5F5 */\n",
              "}\n",
              "\n",
              "</style>      \n",
              "<div id=\"h2o-table-16\" class=\"h2o-container\">\n",
              "  <table class=\"h2o-table\">\n",
              "    <caption></caption>\n",
              "    <thead></thead>\n",
              "    <tbody><tr><td>H2O_cluster_uptime:</td>\n",
              "<td>1 hour 3 mins</td></tr>\n",
              "<tr><td>H2O_cluster_timezone:</td>\n",
              "<td>Etc/UTC</td></tr>\n",
              "<tr><td>H2O_data_parsing_timezone:</td>\n",
              "<td>UTC</td></tr>\n",
              "<tr><td>H2O_cluster_version:</td>\n",
              "<td>3.42.0.4</td></tr>\n",
              "<tr><td>H2O_cluster_version_age:</td>\n",
              "<td>2 days</td></tr>\n",
              "<tr><td>H2O_cluster_name:</td>\n",
              "<td>H2O_from_python_unknownUser_kius4f</td></tr>\n",
              "<tr><td>H2O_cluster_total_nodes:</td>\n",
              "<td>1</td></tr>\n",
              "<tr><td>H2O_cluster_free_memory:</td>\n",
              "<td>3.148 Gb</td></tr>\n",
              "<tr><td>H2O_cluster_total_cores:</td>\n",
              "<td>2</td></tr>\n",
              "<tr><td>H2O_cluster_allowed_cores:</td>\n",
              "<td>2</td></tr>\n",
              "<tr><td>H2O_cluster_status:</td>\n",
              "<td>locked, healthy</td></tr>\n",
              "<tr><td>H2O_connection_url:</td>\n",
              "<td>http://localhost:54321</td></tr>\n",
              "<tr><td>H2O_connection_proxy:</td>\n",
              "<td>{\"http\": null, \"https\": null, \"colab_language_server\": \"/usr/colab/bin/language_service\"}</td></tr>\n",
              "<tr><td>H2O_internal_security:</td>\n",
              "<td>False</td></tr>\n",
              "<tr><td>Python_version:</td>\n",
              "<td>3.10.12 final</td></tr></tbody>\n",
              "  </table>\n",
              "</div>\n"
            ]
          },
          "metadata": {}
        },
        {
          "output_type": "stream",
          "name": "stdout",
          "text": [
            "Parse progress: |████████████████████████████████████████████████████████████████| (done) 100%\n",
            "drf Model Build progress: |"
          ]
        },
        {
          "output_type": "stream",
          "name": "stderr",
          "text": [
            "/usr/local/lib/python3.10/dist-packages/h2o/estimators/estimator_base.py:192: RuntimeWarning: Dropping bad and constant columns: [distance_nose_tail_median]\n",
            "  warnings.warn(mesg[\"message\"], RuntimeWarning)\n"
          ]
        },
        {
          "output_type": "stream",
          "name": "stdout",
          "text": [
            "██████████████████████████████████████████████████████| (done) 100%\n",
            "Parse progress: |████████████████████████████████████████████████████████████████| (done) 100%\n",
            "drf prediction progress: |███████████████████████████████████████████████████████| (done) 100%\n"
          ]
        },
        {
          "output_type": "stream",
          "name": "stderr",
          "text": [
            "/usr/local/lib/python3.10/dist-packages/h2o/job.py:81: UserWarning: Test/Validation dataset is missing column 'target_variable': substituting in a column of NaN\n",
            "  warnings.warn(w)\n",
            "/usr/local/lib/python3.10/dist-packages/sklearn/metrics/_classification.py:1344: UndefinedMetricWarning: Precision and F-score are ill-defined and being set to 0.0 in labels with no predicted samples. Use `zero_division` parameter to control this behavior.\n",
            "  _warn_prf(average, modifier, msg_start, len(result))\n",
            "/usr/local/lib/python3.10/dist-packages/sklearn/metrics/_classification.py:1344: UndefinedMetricWarning: Precision and F-score are ill-defined and being set to 0.0 in labels with no predicted samples. Use `zero_division` parameter to control this behavior.\n",
            "  _warn_prf(average, modifier, msg_start, len(result))\n",
            "/usr/local/lib/python3.10/dist-packages/sklearn/metrics/_classification.py:1344: UndefinedMetricWarning: Precision and F-score are ill-defined and being set to 0.0 in labels with no predicted samples. Use `zero_division` parameter to control this behavior.\n",
            "  _warn_prf(average, modifier, msg_start, len(result))\n"
          ]
        },
        {
          "output_type": "stream",
          "name": "stdout",
          "text": [
            "Classification Report for 'BMS-L':\n",
            "              precision    recall  f1-score   support\n",
            "\n",
            "         0.0       0.00      0.00      0.00         2\n",
            "         1.0       0.00      0.00      0.00         2\n",
            "         2.0       0.67      0.40      0.50         5\n",
            "         3.0       0.38      0.43      0.40         7\n",
            "         4.0       0.20      0.33      0.25         3\n",
            "         5.0       0.17      1.00      0.29         2\n",
            "         6.0       0.00      0.00      0.00         2\n",
            "         7.0       0.00      0.00      0.00         3\n",
            "         8.0       0.00      0.00      0.00         4\n",
            "         9.0       0.00      0.00      0.00         6\n",
            "\n",
            "    accuracy                           0.22        36\n",
            "   macro avg       0.14      0.22      0.14        36\n",
            "weighted avg       0.19      0.22      0.18        36\n",
            "\n",
            "Parse progress: |████████████████████████████████████████████████████████████████| (done) 100%\n",
            "drf Model Build progress: |"
          ]
        },
        {
          "output_type": "stream",
          "name": "stderr",
          "text": [
            "/usr/local/lib/python3.10/dist-packages/h2o/estimators/estimator_base.py:192: RuntimeWarning: Dropping bad and constant columns: [distance_nose_tail_median]\n",
            "  warnings.warn(mesg[\"message\"], RuntimeWarning)\n"
          ]
        },
        {
          "output_type": "stream",
          "name": "stdout",
          "text": [
            "██████████████████████████████████████████████████████| (done) 100%\n",
            "Parse progress: |████████████████████████████████████████████████████████████████| (done) 100%\n",
            "drf prediction progress: |███████████████████████████████████████████████████████| (done) 100%\n",
            "Classification Report for 'BMS-R':\n",
            "              precision    recall  f1-score   support\n",
            "\n",
            "         0.0       0.00      0.00      0.00         3\n",
            "         1.0       0.00      0.00      0.00         4\n",
            "         2.0       0.00      0.00      0.00         2\n",
            "         3.0       0.17      0.14      0.15         7\n",
            "         4.0       0.20      0.33      0.25         3\n",
            "         5.0       0.20      0.50      0.29         4\n",
            "         6.0       0.20      0.50      0.29         2\n",
            "         7.0       0.00      0.00      0.00         3\n",
            "         8.0       0.00      0.00      0.00         2\n",
            "         9.0       0.00      0.00      0.00         6\n",
            "\n",
            "    accuracy                           0.14        36\n",
            "   macro avg       0.08      0.15      0.10        36\n",
            "weighted avg       0.08      0.14      0.10        36\n",
            "\n"
          ]
        },
        {
          "output_type": "stream",
          "name": "stderr",
          "text": [
            "/usr/local/lib/python3.10/dist-packages/h2o/job.py:81: UserWarning: Test/Validation dataset is missing column 'target_variable': substituting in a column of NaN\n",
            "  warnings.warn(w)\n",
            "/usr/local/lib/python3.10/dist-packages/sklearn/metrics/_classification.py:1344: UndefinedMetricWarning: Precision and F-score are ill-defined and being set to 0.0 in labels with no predicted samples. Use `zero_division` parameter to control this behavior.\n",
            "  _warn_prf(average, modifier, msg_start, len(result))\n",
            "/usr/local/lib/python3.10/dist-packages/sklearn/metrics/_classification.py:1344: UndefinedMetricWarning: Precision and F-score are ill-defined and being set to 0.0 in labels with no predicted samples. Use `zero_division` parameter to control this behavior.\n",
            "  _warn_prf(average, modifier, msg_start, len(result))\n",
            "/usr/local/lib/python3.10/dist-packages/sklearn/metrics/_classification.py:1344: UndefinedMetricWarning: Precision and F-score are ill-defined and being set to 0.0 in labels with no predicted samples. Use `zero_division` parameter to control this behavior.\n",
            "  _warn_prf(average, modifier, msg_start, len(result))\n"
          ]
        }
      ]
    },
    {
      "cell_type": "code",
      "source": [
        "# Logistic Regression - L: 0.0714, R: 0.4286\n",
        "# X contains your feature data, and y contains multiple target columns\n",
        "\n",
        "# Split the data into training and testing sets\n",
        "X_train, X_test, y_train, y_test = train_test_split(X, y, test_size=0.2, random_state=42)\n",
        "\n",
        "# Initialize and train a logistic regression model for 'BMS-L'\n",
        "lr_model_BMS_L = LogisticRegression()\n",
        "lr_model_BMS_L.fit(X_train, y_train['BMS-L'])  # Train on the 'BMS-L' target\n",
        "\n",
        "# Make predictions on the test data for 'BMS-L'\n",
        "lr_y_pred_BMS_L = lr_model_BMS_L.predict(X_test)\n",
        "\n",
        "# Evaluate the model for 'BMS-L'\n",
        "lr_accuracy_BMS_L = accuracy_score(y_test['BMS-L'], lr_y_pred_BMS_L)\n",
        "print(f\"Logistic Regression Accuracy for 'BMS-L': {lr_accuracy_BMS_L}\")\n",
        "\n",
        "# Initialize and train a logistic regression model for 'BMS-R'\n",
        "lr_model_BMS_R = LogisticRegression()\n",
        "lr_model_BMS_R.fit(X_train, y_train['BMS-R'])  # Train on the 'BMS-R' target\n",
        "\n",
        "# Make predictions on the test data for 'BMS-R'\n",
        "lr_y_pred_BMS_R = lr_model_BMS_R.predict(X_test)\n",
        "\n",
        "# Evaluate the model for 'BMS-R'\n",
        "lr_accuracy_BMS_R = accuracy_score(y_test['BMS-R'], lr_y_pred_BMS_R)\n",
        "print(f\"Logistic Regression Accuracy for 'BMS-R': {lr_accuracy_BMS_R}\")"
      ],
      "metadata": {
        "colab": {
          "base_uri": "https://localhost:8080/",
          "height": 460
        },
        "id": "_LepXOal_Czi",
        "outputId": "6e2011b1-0dea-438b-837d-2855296f4c95"
      },
      "execution_count": null,
      "outputs": [
        {
          "output_type": "error",
          "ename": "ValueError",
          "evalue": "ignored",
          "traceback": [
            "\u001b[0;31m---------------------------------------------------------------------------\u001b[0m",
            "\u001b[0;31mValueError\u001b[0m                                Traceback (most recent call last)",
            "\u001b[0;32m<ipython-input-14-4c5229bd603c>\u001b[0m in \u001b[0;36m<cell line: 9>\u001b[0;34m()\u001b[0m\n\u001b[1;32m      7\u001b[0m \u001b[0;31m# Initialize and train a logistic regression model for 'BMS-L'\u001b[0m\u001b[0;34m\u001b[0m\u001b[0;34m\u001b[0m\u001b[0m\n\u001b[1;32m      8\u001b[0m \u001b[0mlr_model_BMS_L\u001b[0m \u001b[0;34m=\u001b[0m \u001b[0mLogisticRegression\u001b[0m\u001b[0;34m(\u001b[0m\u001b[0;34m)\u001b[0m\u001b[0;34m\u001b[0m\u001b[0;34m\u001b[0m\u001b[0m\n\u001b[0;32m----> 9\u001b[0;31m \u001b[0mlr_model_BMS_L\u001b[0m\u001b[0;34m.\u001b[0m\u001b[0mfit\u001b[0m\u001b[0;34m(\u001b[0m\u001b[0mX_train\u001b[0m\u001b[0;34m,\u001b[0m \u001b[0my_train\u001b[0m\u001b[0;34m[\u001b[0m\u001b[0;34m'BMS-L'\u001b[0m\u001b[0;34m]\u001b[0m\u001b[0;34m)\u001b[0m  \u001b[0;31m# Train on the 'BMS-L' target\u001b[0m\u001b[0;34m\u001b[0m\u001b[0;34m\u001b[0m\u001b[0m\n\u001b[0m\u001b[1;32m     10\u001b[0m \u001b[0;34m\u001b[0m\u001b[0m\n\u001b[1;32m     11\u001b[0m \u001b[0;31m# Make predictions on the test data for 'BMS-L'\u001b[0m\u001b[0;34m\u001b[0m\u001b[0;34m\u001b[0m\u001b[0m\n",
            "\u001b[0;32m/usr/local/lib/python3.10/dist-packages/sklearn/linear_model/_logistic.py\u001b[0m in \u001b[0;36mfit\u001b[0;34m(self, X, y, sample_weight)\u001b[0m\n\u001b[1;32m   1194\u001b[0m             \u001b[0m_dtype\u001b[0m \u001b[0;34m=\u001b[0m \u001b[0;34m[\u001b[0m\u001b[0mnp\u001b[0m\u001b[0;34m.\u001b[0m\u001b[0mfloat64\u001b[0m\u001b[0;34m,\u001b[0m \u001b[0mnp\u001b[0m\u001b[0;34m.\u001b[0m\u001b[0mfloat32\u001b[0m\u001b[0;34m]\u001b[0m\u001b[0;34m\u001b[0m\u001b[0;34m\u001b[0m\u001b[0m\n\u001b[1;32m   1195\u001b[0m \u001b[0;34m\u001b[0m\u001b[0m\n\u001b[0;32m-> 1196\u001b[0;31m         X, y = self._validate_data(\n\u001b[0m\u001b[1;32m   1197\u001b[0m             \u001b[0mX\u001b[0m\u001b[0;34m,\u001b[0m\u001b[0;34m\u001b[0m\u001b[0;34m\u001b[0m\u001b[0m\n\u001b[1;32m   1198\u001b[0m             \u001b[0my\u001b[0m\u001b[0;34m,\u001b[0m\u001b[0;34m\u001b[0m\u001b[0;34m\u001b[0m\u001b[0m\n",
            "\u001b[0;32m/usr/local/lib/python3.10/dist-packages/sklearn/base.py\u001b[0m in \u001b[0;36m_validate_data\u001b[0;34m(self, X, y, reset, validate_separately, **check_params)\u001b[0m\n\u001b[1;32m    582\u001b[0m                 \u001b[0my\u001b[0m \u001b[0;34m=\u001b[0m \u001b[0mcheck_array\u001b[0m\u001b[0;34m(\u001b[0m\u001b[0my\u001b[0m\u001b[0;34m,\u001b[0m \u001b[0minput_name\u001b[0m\u001b[0;34m=\u001b[0m\u001b[0;34m\"y\"\u001b[0m\u001b[0;34m,\u001b[0m \u001b[0;34m**\u001b[0m\u001b[0mcheck_y_params\u001b[0m\u001b[0;34m)\u001b[0m\u001b[0;34m\u001b[0m\u001b[0;34m\u001b[0m\u001b[0m\n\u001b[1;32m    583\u001b[0m             \u001b[0;32melse\u001b[0m\u001b[0;34m:\u001b[0m\u001b[0;34m\u001b[0m\u001b[0;34m\u001b[0m\u001b[0m\n\u001b[0;32m--> 584\u001b[0;31m                 \u001b[0mX\u001b[0m\u001b[0;34m,\u001b[0m \u001b[0my\u001b[0m \u001b[0;34m=\u001b[0m \u001b[0mcheck_X_y\u001b[0m\u001b[0;34m(\u001b[0m\u001b[0mX\u001b[0m\u001b[0;34m,\u001b[0m \u001b[0my\u001b[0m\u001b[0;34m,\u001b[0m \u001b[0;34m**\u001b[0m\u001b[0mcheck_params\u001b[0m\u001b[0;34m)\u001b[0m\u001b[0;34m\u001b[0m\u001b[0;34m\u001b[0m\u001b[0m\n\u001b[0m\u001b[1;32m    585\u001b[0m             \u001b[0mout\u001b[0m \u001b[0;34m=\u001b[0m \u001b[0mX\u001b[0m\u001b[0;34m,\u001b[0m \u001b[0my\u001b[0m\u001b[0;34m\u001b[0m\u001b[0;34m\u001b[0m\u001b[0m\n\u001b[1;32m    586\u001b[0m \u001b[0;34m\u001b[0m\u001b[0m\n",
            "\u001b[0;32m/usr/local/lib/python3.10/dist-packages/sklearn/utils/validation.py\u001b[0m in \u001b[0;36mcheck_X_y\u001b[0;34m(X, y, accept_sparse, accept_large_sparse, dtype, order, copy, force_all_finite, ensure_2d, allow_nd, multi_output, ensure_min_samples, ensure_min_features, y_numeric, estimator)\u001b[0m\n\u001b[1;32m   1104\u001b[0m         )\n\u001b[1;32m   1105\u001b[0m \u001b[0;34m\u001b[0m\u001b[0m\n\u001b[0;32m-> 1106\u001b[0;31m     X = check_array(\n\u001b[0m\u001b[1;32m   1107\u001b[0m         \u001b[0mX\u001b[0m\u001b[0;34m,\u001b[0m\u001b[0;34m\u001b[0m\u001b[0;34m\u001b[0m\u001b[0m\n\u001b[1;32m   1108\u001b[0m         \u001b[0maccept_sparse\u001b[0m\u001b[0;34m=\u001b[0m\u001b[0maccept_sparse\u001b[0m\u001b[0;34m,\u001b[0m\u001b[0;34m\u001b[0m\u001b[0;34m\u001b[0m\u001b[0m\n",
            "\u001b[0;32m/usr/local/lib/python3.10/dist-packages/sklearn/utils/validation.py\u001b[0m in \u001b[0;36mcheck_array\u001b[0;34m(array, accept_sparse, accept_large_sparse, dtype, order, copy, force_all_finite, ensure_2d, allow_nd, ensure_min_samples, ensure_min_features, estimator, input_name)\u001b[0m\n\u001b[1;32m    919\u001b[0m \u001b[0;34m\u001b[0m\u001b[0m\n\u001b[1;32m    920\u001b[0m         \u001b[0;32mif\u001b[0m \u001b[0mforce_all_finite\u001b[0m\u001b[0;34m:\u001b[0m\u001b[0;34m\u001b[0m\u001b[0;34m\u001b[0m\u001b[0m\n\u001b[0;32m--> 921\u001b[0;31m             _assert_all_finite(\n\u001b[0m\u001b[1;32m    922\u001b[0m                 \u001b[0marray\u001b[0m\u001b[0;34m,\u001b[0m\u001b[0;34m\u001b[0m\u001b[0;34m\u001b[0m\u001b[0m\n\u001b[1;32m    923\u001b[0m                 \u001b[0minput_name\u001b[0m\u001b[0;34m=\u001b[0m\u001b[0minput_name\u001b[0m\u001b[0;34m,\u001b[0m\u001b[0;34m\u001b[0m\u001b[0;34m\u001b[0m\u001b[0m\n",
            "\u001b[0;32m/usr/local/lib/python3.10/dist-packages/sklearn/utils/validation.py\u001b[0m in \u001b[0;36m_assert_all_finite\u001b[0;34m(X, allow_nan, msg_dtype, estimator_name, input_name)\u001b[0m\n\u001b[1;32m    159\u001b[0m                 \u001b[0;34m\"#estimators-that-handle-nan-values\"\u001b[0m\u001b[0;34m\u001b[0m\u001b[0;34m\u001b[0m\u001b[0m\n\u001b[1;32m    160\u001b[0m             )\n\u001b[0;32m--> 161\u001b[0;31m         \u001b[0;32mraise\u001b[0m \u001b[0mValueError\u001b[0m\u001b[0;34m(\u001b[0m\u001b[0mmsg_err\u001b[0m\u001b[0;34m)\u001b[0m\u001b[0;34m\u001b[0m\u001b[0;34m\u001b[0m\u001b[0m\n\u001b[0m\u001b[1;32m    162\u001b[0m \u001b[0;34m\u001b[0m\u001b[0m\n\u001b[1;32m    163\u001b[0m \u001b[0;34m\u001b[0m\u001b[0m\n",
            "\u001b[0;31mValueError\u001b[0m: Input X contains NaN.\nLogisticRegression does not accept missing values encoded as NaN natively. For supervised learning, you might want to consider sklearn.ensemble.HistGradientBoostingClassifier and Regressor which accept missing values encoded as NaNs natively. Alternatively, it is possible to preprocess the data, for instance by using an imputer transformer in a pipeline or drop samples with missing values. See https://scikit-learn.org/stable/modules/impute.html You can find a list of all estimators that handle NaN values at the following page: https://scikit-learn.org/stable/modules/impute.html#estimators-that-handle-nan-values"
          ]
        }
      ]
    },
    {
      "cell_type": "code",
      "source": [
        "# XGBoost - L: 0.5714, R: 0.6429, with blanks - L:0.7222, R: 0.6667\n",
        "# X contains your feature data, and y contains multiple target columns\n",
        "\n",
        "# Initialize LabelEncoder\n",
        "label_encoder = LabelEncoder()\n",
        "\n",
        "# Encode the target variable 'BMS-L' and 'BMS-R' to integers starting from 0\n",
        "y_train_encoded_BMS_L = label_encoder.fit_transform(y_train['BMS-L'])\n",
        "y_test_encoded_BMS_L = label_encoder.transform(y_test['BMS-L'])\n",
        "\n",
        "y_train_encoded_BMS_R = label_encoder.fit_transform(y_train['BMS-R'])\n",
        "y_test_encoded_BMS_R = label_encoder.transform(y_test['BMS-R'])\n",
        "\n",
        "# Initialize and train the XGBoost model for 'BMS-L'\n",
        "xgb_model_BMS_L = xgb.XGBClassifier(objective=\"multi:softmax\", num_class=8, random_state=42)\n",
        "xgb_model_BMS_L.fit(X_train, y_train_encoded_BMS_L)  # Train on the encoded 'BMS-L' target\n",
        "\n",
        "# Initialize and train the XGBoost model for 'BMS-R'\n",
        "xgb_model_BMS_R = xgb.XGBClassifier(objective=\"multi:softmax\", num_class=8, random_state=42)\n",
        "xgb_model_BMS_R.fit(X_train, y_train_encoded_BMS_R)  # Train on the encoded 'BMS-R' target\n",
        "\n",
        "# Make predictions on the test data for 'BMS-L' and 'BMS-R'\n",
        "xgb_y_pred_BMS_L = xgb_model_BMS_L.predict(X_test)\n",
        "xgb_y_pred_BMS_R = xgb_model_BMS_R.predict(X_test)\n",
        "\n",
        "# Inverse transform the encoded predictions to get the original class labels\n",
        "y_pred_BMS_L = label_encoder.inverse_transform(xgb_y_pred_BMS_L)\n",
        "y_pred_BMS_R = label_encoder.inverse_transform(xgb_y_pred_BMS_R)\n",
        "\n",
        "# Evaluate the models for 'BMS-L' and 'BMS-R'\n",
        "xgb_accuracy_BMS_L = accuracy_score(y_test['BMS-L'], y_pred_BMS_L)\n",
        "xgb_accuracy_BMS_R = accuracy_score(y_test['BMS-R'], y_pred_BMS_R)\n",
        "\n",
        "print(f\"XGBoost Accuracy for 'BMS-L: {xgb_accuracy_BMS_L}\")\n",
        "print(f\"XGBoost Accuracy for 'BMS-R: {xgb_accuracy_BMS_R}\")"
      ],
      "metadata": {
        "colab": {
          "base_uri": "https://localhost:8080/"
        },
        "id": "9YQFvSeIBYD0",
        "outputId": "48217c9e-a59e-4d9f-d709-d4f8f57005a5"
      },
      "execution_count": null,
      "outputs": [
        {
          "output_type": "stream",
          "name": "stdout",
          "text": [
            "XGBoost Accuracy for 'BMS-L: 0.6388888888888888\n",
            "XGBoost Accuracy for 'BMS-R: 0.7777777777777778\n"
          ]
        }
      ]
    },
    {
      "cell_type": "code",
      "source": [
        "# LightGBM - L: 0.6429, R: 0.7143, with blanks - L:0.7222, R: 0.8056, for the following hyperparameters:\n",
        "# Best Hyperparameters for 'BMS-L' (LightGBM): {'learning_rate': 0.1, 'max_depth': 3, 'n_estimators': 200}\n",
        "# Best Hyperparameters for 'BMS-R' (LightGBM): {'learning_rate': 0.1, 'max_depth': 5, 'n_estimators': 200}\n",
        "# L: 0.75, R: 0.8056\n",
        "# And for the following (default) hyperparameters (learning rate: 0.1, max_depth: -1, n_estimators: 100 - L: 0.7778, R: 0.7778\n",
        "# Best Hyperparameters for 'BMS-L' (LightGBM): {'learning_rate': 0.01, 'max_depth': 3, 'n_estimators': 400} L: 0.75\n",
        "# Best Hyperparameters for 'BMS-R' (LightGBM): {'learning_rate': 0.05, 'max_depth': 6, 'n_estimators': 200} R: 0.7778\n",
        "\n",
        "# X contains your feature data, and y contains multiple target columns\n",
        "\n",
        "# Split the data into training and testing sets\n",
        "X_train, X_test, y_train, y_test = train_test_split(X, y, test_size=0.2, random_state=42)\n",
        "\n",
        "# Set the hyperparameters for 'BMS-L'\n",
        "lgb_params_BMS_L = {\n",
        "    'objective': 'multiclass',\n",
        "    'num_class': 10,\n",
        "    'random_state': 42,\n",
        "    'verbose': -1,  # Set verbosity to suppress warnings (optional)\n",
        "    'learning_rate': 0.01,  # Set the learning rate\n",
        "    'max_depth': -1,  # Set the maximum depth of trees\n",
        "    'n_estimators': 1000  # Set the number of estimators (trees)\n",
        "}\n",
        "\n",
        "# Create the LightGBM model for 'BMS-L' with the specified hyperparameters\n",
        "lgb_model_BMS_L = LGBMClassifier(**lgb_params_BMS_L)\n",
        "\n",
        "# Fit the model and make predictions as you did before\n",
        "lgb_model_BMS_L.fit(X_train, y_train['BMS-L'])\n",
        "lgb_y_pred_BMS_L = lgb_model_BMS_L.predict(X_test)\n",
        "lgb_accuracy_BMS_L = accuracy_score(y_test['BMS-L'], lgb_y_pred_BMS_L)\n",
        "print(f\"LightGBM Accuracy for 'BMS-L': {lgb_accuracy_BMS_L}\")\n",
        "\n",
        "# Repeat the process for 'BMS-R' with its specific hyperparameters\n",
        "lgb_params_BMS_R = {\n",
        "    'objective': 'multiclass',\n",
        "    'num_class': 10,\n",
        "    'random_state': 42,\n",
        "    'verbose': -1,  # Set verbosity to suppress warnings (optional)\n",
        "    'learning_rate': 0.01,  # Set the learning rate\n",
        "    'max_depth': -1,  # Set the maximum depth of trees\n",
        "    'n_estimators': 1000  # Set the number of estimators (trees)\n",
        "}\n",
        "\n",
        "lgb_model_BMS_R = LGBMClassifier(**lgb_params_BMS_R)\n",
        "lgb_model_BMS_R.fit(X_train, y_train['BMS-R'])\n",
        "lgb_y_pred_BMS_R = lgb_model_BMS_R.predict(X_test)\n",
        "lgb_accuracy_BMS_R = accuracy_score(y_test['BMS-R'], lgb_y_pred_BMS_R)\n",
        "print(f\"LightGBM Accuracy for 'BMS-R': {lgb_accuracy_BMS_R}\")\n",
        "\n",
        "# Calculate metrics for 'BMS-L'\n",
        "print(\"Metrics for 'BMS-L':\")\n",
        "calculate_metrics(y_test['BMS-L'], lgb_y_pred_BMS_L)\n",
        "\n",
        "# Plot ROC curve for 'BMS-L'\n",
        "y_score_BMS_L = lgb_model_BMS_L.predict_proba(X_test)[:, 1]\n",
        "plot_roc_curve(y_test['BMS-L'], y_score_BMS_L)\n",
        "\n",
        "# Implement k-fold cross-validation for 'BMS-L'\n",
        "cv = StratifiedKFold(n_splits=5, shuffle=True, random_state=42)\n",
        "y_pred_cv_BMS_L = cross_val_predict(lgb_model_BMS_L, X_train, y_train['BMS-L'], cv=cv, method='predict')\n",
        "print(\"Cross-Validation Metrics for 'BMS-L':\")\n",
        "calculate_metrics(y_train['BMS-L'], y_pred_cv_BMS_L)\n",
        "\n",
        "# Calculate metrics for 'BMS-R'\n",
        "print(\"\\nMetrics for 'BMS-R':\")\n",
        "calculate_metrics(y_test['BMS-R'], lgb_y_pred_BMS_R)\n",
        "\n",
        "# Plot ROC curve for 'BMS-R'\n",
        "y_score_BMS_R = lgb_model_BMS_R.predict_proba(X_test)[:, 1]\n",
        "plot_roc_curve(y_test['BMS-R'], y_score_BMS_R)\n",
        "\n",
        "# Implement k-fold cross-validation for 'BMS-R'\n",
        "y_pred_cv_BMS_R = cross_val_predict(lgb_model_BMS_R, X_train, y_train['BMS-R'], cv=cv, method='predict')\n",
        "print(\"\\nCross-Validation Metrics for 'BMS-R':\")\n",
        "calculate_metrics(y_train['BMS-R'], y_pred_cv_BMS_R)\n",
        "\n",
        "# both w 0.1,1, 500: 0.7222, 0.8056"
      ],
      "metadata": {
        "colab": {
          "base_uri": "https://localhost:8080/",
          "height": 1000
        },
        "id": "zVe6xvuJkUH7",
        "outputId": "960ce576-929e-4cd2-be63-eca7a73e89f8"
      },
      "execution_count": null,
      "outputs": [
        {
          "output_type": "stream",
          "name": "stdout",
          "text": [
            "LightGBM Accuracy for 'BMS-L': 0.75\n",
            "LightGBM Accuracy for 'BMS-R': 0.7777777777777778\n",
            "Metrics for 'BMS-L':\n",
            "Precision: 0.77\n",
            "Recall: 0.75\n",
            "F1 Score: 0.72\n",
            "Confusion Matrix:\n",
            "[[1 0 1 0 0 0 0 0 0 0]\n",
            " [0 1 1 0 0 0 0 0 0 0]\n",
            " [0 0 4 0 1 0 0 0 0 0]\n",
            " [0 0 0 6 1 0 0 0 0 0]\n",
            " [0 0 0 0 3 0 0 0 0 0]\n",
            " [0 0 0 0 0 0 0 0 2 0]\n",
            " [0 0 0 0 0 0 2 0 0 0]\n",
            " [0 0 0 1 1 0 0 1 0 0]\n",
            " [0 0 0 0 0 0 1 0 3 0]\n",
            " [0 0 0 0 0 0 0 0 0 6]]\n"
          ]
        },
        {
          "output_type": "stream",
          "name": "stderr",
          "text": [
            "/usr/local/lib/python3.10/dist-packages/sklearn/metrics/_classification.py:1344: UndefinedMetricWarning: Precision is ill-defined and being set to 0.0 in labels with no predicted samples. Use `zero_division` parameter to control this behavior.\n",
            "  _warn_prf(average, modifier, msg_start, len(result))\n"
          ]
        },
        {
          "output_type": "display_data",
          "data": {
            "text/plain": [
              "<Figure size 640x480 with 1 Axes>"
            ],
            "image/png": "[encoded data removed]"
          },
          "metadata": {}
        },
        {
          "output_type": "stream",
          "name": "stdout",
          "text": [
            "Cross-Validation Metrics for 'BMS-L':\n",
            "Precision: 0.68\n",
            "Recall: 0.67\n",
            "F1 Score: 0.67\n",
            "Confusion Matrix:\n",
            "[[ 9  1  1  0  0  0  0  0  0  0]\n",
            " [ 2  1  2  0  0  0  0  0  0  0]\n",
            " [ 3  0 11  2  0  0  1  0  0  0]\n",
            " [ 1  0  2 15  3  2  0  0  0  0]\n",
            " [ 0  0  1  6  8  2  1  0  0  0]\n",
            " [ 0  0  0  2  0 13  0  0  4  0]\n",
            " [ 0  0  0  1  0  0 12  0  3  0]\n",
            " [ 0  0  0  0  2  0  0  5  0  0]\n",
            " [ 0  0  0  0  0  3  0  0 14  1]\n",
            " [ 0  0  0  0  0  1  0  0  0  9]]\n",
            "\n",
            "Metrics for 'BMS-R':\n",
            "Precision: 0.80\n",
            "Recall: 0.78\n",
            "F1 Score: 0.77\n",
            "Confusion Matrix:\n",
            "[[1 1 0 0 1 0 0 0 0 0]\n",
            " [1 3 0 0 0 0 0 0 0 0]\n",
            " [0 0 1 0 1 0 0 0 0 0]\n",
            " [0 0 0 7 0 0 0 0 0 0]\n",
            " [0 1 0 1 1 0 0 0 0 0]\n",
            " [0 0 0 0 0 4 0 0 0 0]\n",
            " [0 0 0 0 0 0 2 0 0 0]\n",
            " [0 0 0 0 1 1 0 1 0 0]\n",
            " [0 0 0 0 0 0 0 0 2 0]\n",
            " [0 0 0 0 0 0 0 0 0 6]]\n"
          ]
        },
        {
          "output_type": "display_data",
          "data": {
            "text/plain": [
              "<Figure size 640x480 with 1 Axes>"
            ],
            "image/png": "[encoded data removed]"
          },
          "metadata": {}
        },
        {
          "output_type": "stream",
          "name": "stdout",
          "text": [
            "\n",
            "Cross-Validation Metrics for 'BMS-R':\n",
            "Precision: 0.74\n",
            "Recall: 0.74\n",
            "F1 Score: 0.74\n",
            "Confusion Matrix:\n",
            "[[ 8  4  0  0  0  0  0  0  0  0]\n",
            " [ 2 12  0  0  1  1  0  0  0  0]\n",
            " [ 0  2  1  2  0  0  0  0  0  0]\n",
            " [ 0  0  0 16  4  0  0  0  0  0]\n",
            " [ 0  1  1  2  5  5  0  0  0  0]\n",
            " [ 0  0  0  1  1 26  1  0  4  0]\n",
            " [ 0  0  0  0  0  1 11  0  0  0]\n",
            " [ 0  0  0  0  0  1  0  6  0  0]\n",
            " [ 0  0  0  0  0  2  0  0 13  0]\n",
            " [ 0  0  0  0  0  0  0  0  1  9]]\n"
          ]
        }
      ]
    },
    {
      "cell_type": "code",
      "source": [
        "# CatBoost - L: 0.5, R: 0.7143, with blanks - L:0.7222, R: 0.6667, using following hyperparameters:\n",
        "# Best Hyperparameters for 'BMS-L' (CatBoost): {'depth': 4, 'iterations': 300, 'learning_rate': 0.2}\n",
        "# Best Hyperparameters for 'BMS-R' (CatBoost): {'depth': 4, 'iterations': 100, 'learning_rate': 0.2}\n",
        "# L: 0.7222, R: 0.6944\n",
        "# With initial hyperparameters - iterations: 1000, depth: 6, learning_rate: 0.1 --> L: 0.8333, R: 0.7222\n",
        "# X contains your feature data, and y contains multiple target columns\n",
        "\n",
        "# Split the data into training and testing sets\n",
        "X_train, X_test, y_train, y_test = train_test_split(X, y, test_size=0.2, random_state=31)\n",
        "\n",
        "# Initialize and train the CatBoost model for 'BMS-L'\n",
        "catboost_model_BMS_L = CatBoostClassifier(iterations=1000, depth=6, learning_rate=0.1, loss_function='MultiClass', random_state=42)\n",
        "catboost_model_BMS_L.fit(X_train, y_train['BMS-L'], verbose=False)\n",
        "\n",
        "# Make predictions on the test data for 'BMS-L'\n",
        "catboost_y_pred_BMS_L = catboost_model_BMS_L.predict(X_test)\n",
        "\n",
        "# Evaluate the model for 'BMS-L'\n",
        "catboost_accuracy_BMS_L = accuracy_score(y_test['BMS-L'], catboost_y_pred_BMS_L)\n",
        "print(f\"CatBoost Accuracy for 'BMS-L': {catboost_accuracy_BMS_L}\")\n",
        "\n",
        "# Repeat the process for 'BMS-R'\n",
        "catboost_model_BMS_R = CatBoostClassifier(iterations=1000, depth=6, learning_rate=0.1, loss_function='MultiClass', random_state=42)\n",
        "catboost_model_BMS_R.fit(X_train, y_train['BMS-R'], verbose=False)\n",
        "catboost_y_pred_BMS_R = catboost_model_BMS_R.predict(X_test)\n",
        "catboost_accuracy_BMS_R = accuracy_score(y_test['BMS-R'], catboost_y_pred_BMS_R)\n",
        "print(f\"CatBoost Accuracy for 'BMS-R': {catboost_accuracy_BMS_R}\")"
      ],
      "metadata": {
        "colab": {
          "base_uri": "https://localhost:8080/"
        },
        "id": "Yfs3ZKRRkT7P",
        "outputId": "2970984c-1bf2-4c8d-dee7-af1423026988"
      },
      "execution_count": null,
      "outputs": [
        {
          "output_type": "stream",
          "name": "stdout",
          "text": [
            "CatBoost Accuracy for 'BMS-L': 0.9166666666666666\n",
            "CatBoost Accuracy for 'BMS-R': 0.7777777777777778\n"
          ]
        }
      ]
    },
    {
      "cell_type": "code",
      "source": [
        "# hist gradient boosting classifier: both training are 1 and test L is 0.7778 and R is 0.75\n",
        "clf = HistGradientBoostingClassifier().fit(X_train, y_train['BMS-L'])\n",
        "\n",
        "print(\"Training Score\", clf.score(X_train, y_train['BMS-L']))\n",
        "print(\"Test Score\", clf.score(X_test, y_test['BMS-L']))\n",
        "\n",
        "clf = HistGradientBoostingClassifier().fit(X_train, y_train['BMS-R'])\n",
        "\n",
        "print(\"Training Score\", clf.score(X_train, y_train['BMS-R']))\n",
        "print(\"Test Score\", clf.score(X_test, y_test['BMS-R']))"
      ],
      "metadata": {
        "colab": {
          "base_uri": "https://localhost:8080/"
        },
        "id": "LqmCisqtkCi3",
        "outputId": "ac0d85e5-fdbd-493a-f9bb-542ca80084e8"
      },
      "execution_count": null,
      "outputs": [
        {
          "output_type": "stream",
          "name": "stdout",
          "text": [
            "Training Score 1.0\n",
            "Test Score 0.7777777777777778\n",
            "Training Score 1.0\n",
            "Test Score 0.75\n"
          ]
        }
      ]
    }
  ]
}